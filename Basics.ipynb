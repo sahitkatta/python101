{
 "cells": [
  {
   "cell_type": "code",
   "execution_count": 2,
   "id": "0095d794-d3e8-4323-a703-bd626fbce588",
   "metadata": {
    "tags": []
   },
   "outputs": [
    {
     "name": "stdout",
     "output_type": "stream",
     "text": [
      "3.11.4 (main, Jul  5 2023, 08:54:11) [Clang 14.0.6 ]\n"
     ]
    }
   ],
   "source": [
    "import sys\n",
    "\n",
    "print(sys.version)"
   ]
  },
  {
   "cell_type": "code",
   "execution_count": 3,
   "id": "ff1930af-083e-43c2-bf3d-5c34f825dcf4",
   "metadata": {
    "tags": []
   },
   "outputs": [],
   "source": [
    "# this is the first comment\n",
    "spam = 1  # and this is the second comment\n",
    "text = \"# This is not a comment because it's inside quotes.\""
   ]
  },
  {
   "cell_type": "code",
   "execution_count": 5,
   "id": "3f328f0f-f89d-4d76-8b9a-d789dbb51751",
   "metadata": {
    "tags": []
   },
   "outputs": [
    {
     "data": {
      "text/plain": [
       "6"
      ]
     },
     "execution_count": 5,
     "metadata": {},
     "output_type": "execute_result"
    }
   ],
   "source": [
    "word = 'Python'\n",
    "word[0]  # character in position 0\n",
    "word[5]  # character in position 5\n",
    "word[-1]  # last character\n",
    "word[-2]  # second-last character\n",
    "word[0:2]  # characters from position 0 (included) to 2 (excluded)\n",
    "word[2:5]  # characters from position 2 (included) to 5 (excluded)\n",
    "word[:2]   # character from the beginning to position 2 (excluded)\n",
    "word[4:]   # characters from position 4 (included) to the end\n",
    "word[-2:]  # characters from the second-last (included) to the end\n",
    "word[:2] + word[2:]  # s[:i] + s[i:] is always equal to s\n",
    "\n",
    "len(word)  # The built-in function len() returns the length of a string\n"
   ]
  },
  {
   "cell_type": "code",
   "execution_count": 6,
   "id": "79c894d1-8f59-46df-b075-2dc9612615b4",
   "metadata": {},
   "outputs": [
    {
     "data": {
      "text/plain": [
       "5"
      ]
     },
     "execution_count": 6,
     "metadata": {},
     "output_type": "execute_result"
    }
   ],
   "source": [
    "squares = [1, 4, 9, 16, 25]\n",
    "squares[0]  # indexing returns the item\n",
    "squares[-3:]  # slicing returns a new list\n",
    "squares[:]  # Note: All slice operations return a new list containing the requested elements. This means that the following slice returns a shallow copy of the list\n",
    "\n",
    "len(squares)  # The built-in function len() also applies to lists"
   ]
  },
  {
   "cell_type": "code",
   "execution_count": 7,
   "metadata": {},
   "outputs": [
    {
     "name": "stdout",
     "output_type": "stream",
     "text": [
      "0,1,1,2,3,5,8,13,21,34,55,89,144,233,377,610,987,"
     ]
    }
   ],
   "source": [
    "# Fibonacci sequence\n",
    "a, b = 0, 1\n",
    "while a < 1000:\n",
    "    print(a, end=',') # The keyword argument end can be used to avoid the newline after the output, or end the output with a different string.\n",
    "    a, b = b, a+b"
   ]
  },
  {
   "cell_type": "code",
   "execution_count": null,
   "metadata": {},
   "outputs": [],
   "source": []
  }
 ],
 "metadata": {
  "kernelspec": {
   "display_name": "Python 3 (ipykernel)",
   "language": "python",
   "name": "python3"
  },
  "language_info": {
   "codemirror_mode": {
    "name": "ipython",
    "version": 3
   },
   "file_extension": ".py",
   "mimetype": "text/x-python",
   "name": "python",
   "nbconvert_exporter": "python",
   "pygments_lexer": "ipython3",
   "version": "3.11.4"
  }
 },
 "nbformat": 4,
 "nbformat_minor": 5
}
